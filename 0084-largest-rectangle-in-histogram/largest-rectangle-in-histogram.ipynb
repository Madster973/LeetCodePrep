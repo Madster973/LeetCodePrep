{
 "cells": [
  {
   "cell_type": "code",
   "execution_count": 11,
   "id": "41b6d2a7",
   "metadata": {},
   "outputs": [
    {
     "data": {
      "text/plain": [
       "20"
      ]
     },
     "execution_count": 11,
     "metadata": {},
     "output_type": "execute_result"
    }
   ],
   "source": [
    "heights = [2,1,5,6,7,8]\n",
    "heights.append(0)\n",
    "monotonic_stack:list[int] = []\n",
    "max_area:int = 0\n",
    "for height_index in range(len(heights)):\n",
    "    while monotonic_stack and heights[height_index] < heights[monotonic_stack[-1]]:\n",
    "        boundary_index = monotonic_stack.pop()\n",
    "        width = height_index if not monotonic_stack else (height_index - monotonic_stack[-1] - 1)\n",
    "        area = heights[boundary_index] * width\n",
    "        max_area = max(area, max_area)\n",
    "    monotonic_stack.append(height_index)\n",
    "max_area"
   ]
  }
 ],
 "metadata": {
  "kernelspec": {
   "display_name": "base",
   "language": "python",
   "name": "python3"
  },
  "language_info": {
   "codemirror_mode": {
    "name": "ipython",
    "version": 3
   },
   "file_extension": ".py",
   "mimetype": "text/x-python",
   "name": "python",
   "nbconvert_exporter": "python",
   "pygments_lexer": "ipython3",
   "version": "3.9.18"
  }
 },
 "nbformat": 4,
 "nbformat_minor": 5
}
