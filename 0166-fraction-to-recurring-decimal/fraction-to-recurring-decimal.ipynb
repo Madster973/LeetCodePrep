{
 "cells": [
  {
   "cell_type": "markdown",
   "id": "01da89c2",
   "metadata": {},
   "source": [
    "- Do the long division and store the remainder in a hashmap to check if the pattern is reoccuring"
   ]
  },
  {
   "cell_type": "code",
   "execution_count": 10,
   "id": "a6c954f5",
   "metadata": {},
   "outputs": [
    {
     "name": "stdout",
     "output_type": "stream",
     "text": [
      "0.(012)\n"
     ]
    }
   ],
   "source": [
    "numerator = 4\n",
    "denominator = 333\n",
    "if numerator == 0:\n",
    "    print(\"0\")\n",
    "result = \"-\" if (numerator < 0 ) or (denominator < 0) else \"\"\n",
    "result += str(numerator//denominator)\n",
    "remainder = numerator % denominator\n",
    "remainder_dict = {}\n",
    "if remainder != 0:\n",
    "    result+=\".\"\n",
    "    while remainder != 0 and remainder not in remainder_dict:\n",
    "        remainder_dict[remainder] = len(result)\n",
    "        remainder*=10\n",
    "        result += str(remainder//denominator)\n",
    "        remainder%= denominator\n",
    "        if remainder in remainder_dict:\n",
    "            result = result[:remainder_dict[remainder]] + \"(\" + result[remainder_dict[remainder]:] + \")\"\n",
    "print(result)\n"
   ]
  }
 ],
 "metadata": {
  "kernelspec": {
   "display_name": "base",
   "language": "python",
   "name": "python3"
  },
  "language_info": {
   "codemirror_mode": {
    "name": "ipython",
    "version": 3
   },
   "file_extension": ".py",
   "mimetype": "text/x-python",
   "name": "python",
   "nbconvert_exporter": "python",
   "pygments_lexer": "ipython3",
   "version": "3.9.18"
  }
 },
 "nbformat": 4,
 "nbformat_minor": 5
}
