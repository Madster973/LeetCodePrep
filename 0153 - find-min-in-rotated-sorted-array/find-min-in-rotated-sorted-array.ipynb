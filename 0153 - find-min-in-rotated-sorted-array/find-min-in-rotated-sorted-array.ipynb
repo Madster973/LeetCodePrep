{
 "cells": [
  {
   "cell_type": "code",
   "execution_count": 5,
   "id": "079a6d3c",
   "metadata": {},
   "outputs": [
    {
     "name": "stdout",
     "output_type": "stream",
     "text": [
      "1\n"
     ]
    }
   ],
   "source": [
    "nums = [3,4,5,1,2]\n",
    "total_length:int = len(nums)\n",
    "if total_length == 1:\n",
    "    nums[0]\n",
    "left_index:int = 0\n",
    "right_index:int = total_length -1\n",
    "min_element = nums[0]\n",
    "while left_index <= right_index:\n",
    "    mid_index:int = left_index + (right_index-left_index)//2\n",
    "    if nums[left_index] <= nums[mid_index]:\n",
    "        min_element = min(min_element,  nums[left_index])\n",
    "        left_index = mid_index + 1\n",
    "    elif nums[right_index] > nums[mid_index]:\n",
    "        min_element = min(min_element, nums[mid_index])\n",
    "        right_index = mid_index - 1\n",
    "\n",
    "print(min_element)"
   ]
  }
 ],
 "metadata": {
  "kernelspec": {
   "display_name": "base",
   "language": "python",
   "name": "python3"
  },
  "language_info": {
   "codemirror_mode": {
    "name": "ipython",
    "version": 3
   },
   "file_extension": ".py",
   "mimetype": "text/x-python",
   "name": "python",
   "nbconvert_exporter": "python",
   "pygments_lexer": "ipython3",
   "version": "3.9.18"
  }
 },
 "nbformat": 4,
 "nbformat_minor": 5
}
