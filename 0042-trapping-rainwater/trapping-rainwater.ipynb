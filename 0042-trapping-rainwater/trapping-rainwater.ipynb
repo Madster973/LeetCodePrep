{
 "cells": [
  {
   "cell_type": "markdown",
   "id": "d2fdfd00",
   "metadata": {},
   "source": [
    "# Trapping RainWater\n",
    "- For every index, the trapping rainwater would be min(max(left), max(right)) - height[i]\n",
    "- You need to calculate an array that would have max_elements with respect to that element on its left. Similarly on right\n",
    "- then for each element take the min(max(left), max(right)) - height[index]"
   ]
  },
  {
   "cell_type": "code",
   "execution_count": 3,
   "id": "065c584d",
   "metadata": {},
   "outputs": [
    {
     "name": "stdout",
     "output_type": "stream",
     "text": [
      "6\n"
     ]
    }
   ],
   "source": [
    "array:list = [0,1,0,2,1,0,1,3,2,1,2,1]\n",
    "len_array:int = len(array)\n",
    "max_left_array:list = [0]*len_array\n",
    "max_right_array:list = [0]*len_array\n",
    "max_left:int = 0\n",
    "max_right:int = 0\n",
    "for left_ind in range(len_array):\n",
    "    right_ind = -left_ind - 1\n",
    "    max_left = max(array[left_ind], max_left)\n",
    "    max_right = max(array[right_ind], max_right)\n",
    "    max_left_array[left_ind] = max_left\n",
    "    max_right_array[right_ind] = max_right\n",
    "\n",
    "storage:int = 0\n",
    "for index in range(len_array):\n",
    "    pot = min(max_left_array[index], max_right_array[index])\n",
    "    storage+= max(0, pot - array[index])\n",
    "\n",
    "print(storage)"
   ]
  },
  {
   "cell_type": "markdown",
   "id": "e68db34b",
   "metadata": {},
   "source": [
    "# 2 Pointer Approach\n",
    "- Instead of computing 2 separate arrays for storing left max and right max elements, we can simply use 2 pointer and calculate a storage\n",
    "- Initialize 2 pointers on the left and right\n",
    "- And move the pointer that is smaller\n",
    "- And compute the storage by subracting the height at the present index from the left storage height, iF it is negative update the max_left or max_right and move on"
   ]
  },
  {
   "cell_type": "code",
   "execution_count": 7,
   "id": "b1154be9",
   "metadata": {},
   "outputs": [
    {
     "name": "stdout",
     "output_type": "stream",
     "text": [
      "6\n"
     ]
    }
   ],
   "source": [
    "array:list = [0,1,0,2,1,0,1,3,2,1,2,1]\n",
    "storage:int = 0\n",
    "left_index:int = 0\n",
    "right_index:int = len(array) - 1\n",
    "max_left:int = 0\n",
    "max_right:int = 0\n",
    "while left_index < right_index:\n",
    "    if max_left <= max_right:\n",
    "        storage+=  0  if max_left - array[left_index] < 0 else max_left - array[left_index]\n",
    "        max_left = max(max_left, array[left_index])\n",
    "        left_index+=1\n",
    "    else:\n",
    "        storage+=  0  if max_right - array[right_index] < 0 else max_right - array[right_index]\n",
    "        max_right = max(max_right, array[right_index])\n",
    "        right_index-=1\n",
    "\n",
    "print(storage)"
   ]
  }
 ],
 "metadata": {
  "kernelspec": {
   "display_name": "base",
   "language": "python",
   "name": "python3"
  },
  "language_info": {
   "codemirror_mode": {
    "name": "ipython",
    "version": 3
   },
   "file_extension": ".py",
   "mimetype": "text/x-python",
   "name": "python",
   "nbconvert_exporter": "python",
   "pygments_lexer": "ipython3",
   "version": "3.9.18"
  }
 },
 "nbformat": 4,
 "nbformat_minor": 5
}
