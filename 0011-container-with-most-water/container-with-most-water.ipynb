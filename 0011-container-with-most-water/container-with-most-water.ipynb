{
 "cells": [
  {
   "cell_type": "markdown",
   "id": "81304d51",
   "metadata": {},
   "source": [
    "# Container with Most Water\n",
    "- Similar to trapping rain water, but you need not consider the height of the element and water can be store between 2 consecutive indexes"
   ]
  },
  {
   "cell_type": "code",
   "execution_count": 3,
   "id": "b5808139",
   "metadata": {},
   "outputs": [
    {
     "name": "stdout",
     "output_type": "stream",
     "text": [
      "49\n"
     ]
    }
   ],
   "source": [
    "heights = [1,8,6,2,5,4,8,3,7]\n",
    "left_index = 0\n",
    "right_index = len(heights) - 1\n",
    "area = 0\n",
    "while left_index <= right_index:\n",
    "    area = max(min(heights[right_index], heights[left_index]) * (right_index-left_index), area)\n",
    "    if heights[left_index] < heights[right_index]:\n",
    "        left_index+=1\n",
    "    else:\n",
    "        right_index-=1\n",
    "print(area)"
   ]
  }
 ],
 "metadata": {
  "kernelspec": {
   "display_name": "base",
   "language": "python",
   "name": "python3"
  },
  "language_info": {
   "codemirror_mode": {
    "name": "ipython",
    "version": 3
   },
   "file_extension": ".py",
   "mimetype": "text/x-python",
   "name": "python",
   "nbconvert_exporter": "python",
   "pygments_lexer": "ipython3",
   "version": "3.9.18"
  }
 },
 "nbformat": 4,
 "nbformat_minor": 5
}
