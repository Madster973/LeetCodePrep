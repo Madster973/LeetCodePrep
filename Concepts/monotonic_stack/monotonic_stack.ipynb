{
 "cells": [
  {
   "cell_type": "markdown",
   "id": "a9dc097e",
   "metadata": {},
   "source": [
    "# Monotonic Stack\n",
    "It contains a series of elements in a strictly decreasing or increasing order.\n",
    "It is used to solve some of the common problems like:\n",
    "- Next Greater Element\n",
    "- Next Smaller Element\n",
    "- Previous Greater Element\n",
    "- Previous Smaller Element\n",
    "- Tapping Rainwater\n",
    "- Finding Max volume of a container\n",
    "\n",
    "## Core Properties\n",
    "\n",
    "- Maintains order by removing elements that violate the monotonic property\n",
    "- Elements are typically removed when they are no longer useful for future comparisons\n",
    "- Often used with indices rather than actual values to track positions"
   ]
  },
  {
   "cell_type": "code",
   "execution_count": null,
   "id": "a78fc2c2",
   "metadata": {},
   "outputs": [
    {
     "name": "stdout",
     "output_type": "stream",
     "text": [
      "[1, 3, 4, 6]\n"
     ]
    }
   ],
   "source": [
    "# Build a increasing monotonic stack based on the given array\n",
    "arr:list = [2, 1, 5, 3, 4, 6]\n",
    "monotonic_stack:list = []\n",
    "\n",
    "for number in arr:\n",
    "    while monotonic_stack and number < monotonic_stack[-1]:\n",
    "        monotonic_stack.pop()\n",
    "    monotonic_stack.append(number)\n",
    "\n",
    "print(monotonic_stack)\n",
    "\n"
   ]
  },
  {
   "cell_type": "code",
   "execution_count": 8,
   "id": "d5b1d725",
   "metadata": {},
   "outputs": [
    {
     "name": "stdout",
     "output_type": "stream",
     "text": [
      "[6, 5, 2]\n"
     ]
    }
   ],
   "source": [
    "# Build a decreasing monotonic stack based on the given array\n",
    "arr:list = [6, 4, 3, 5, 1, 2]\n",
    "monotonic_stack:list = []\n",
    "\n",
    "for number in arr:\n",
    "    while monotonic_stack and number > monotonic_stack[-1]:\n",
    "        monotonic_stack.pop()\n",
    "    monotonic_stack.append(number)\n",
    "\n",
    "print(monotonic_stack)\n",
    "\n"
   ]
  }
 ],
 "metadata": {
  "kernelspec": {
   "display_name": "base",
   "language": "python",
   "name": "python3"
  },
  "language_info": {
   "codemirror_mode": {
    "name": "ipython",
    "version": 3
   },
   "file_extension": ".py",
   "mimetype": "text/x-python",
   "name": "python",
   "nbconvert_exporter": "python",
   "pygments_lexer": "ipython3",
   "version": "3.9.18"
  }
 },
 "nbformat": 4,
 "nbformat_minor": 5
}
